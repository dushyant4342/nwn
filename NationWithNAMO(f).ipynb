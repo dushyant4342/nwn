{
 "cells": [
  {
   "cell_type": "code",
   "execution_count": 6,
   "metadata": {},
   "outputs": [],
   "source": [
    "import pandas as pd"
   ]
  },
  {
   "cell_type": "code",
   "execution_count": 7,
   "metadata": {},
   "outputs": [],
   "source": [
    "filename = 'NationWithNAMO.csv'\n",
    "data = pd.read_csv(filename)"
   ]
  },
  {
   "cell_type": "code",
   "execution_count": 8,
   "metadata": {},
   "outputs": [
    {
     "data": {
      "text/html": [
       "<div>\n",
       "<style scoped>\n",
       "    .dataframe tbody tr th:only-of-type {\n",
       "        vertical-align: middle;\n",
       "    }\n",
       "\n",
       "    .dataframe tbody tr th {\n",
       "        vertical-align: top;\n",
       "    }\n",
       "\n",
       "    .dataframe thead th {\n",
       "        text-align: right;\n",
       "    }\n",
       "</style>\n",
       "<table border=\"1\" class=\"dataframe\">\n",
       "  <thead>\n",
       "    <tr style=\"text-align: right;\">\n",
       "      <th></th>\n",
       "      <th>AC name</th>\n",
       "      <th>Election Year</th>\n",
       "      <th>Position</th>\n",
       "      <th>Party</th>\n",
       "    </tr>\n",
       "  </thead>\n",
       "  <tbody>\n",
       "    <tr>\n",
       "      <th>0</th>\n",
       "      <td>Agiaon</td>\n",
       "      <td>3</td>\n",
       "      <td>1</td>\n",
       "      <td>3</td>\n",
       "    </tr>\n",
       "    <tr>\n",
       "      <th>1</th>\n",
       "      <td>Agiaon (SC)</td>\n",
       "      <td>1</td>\n",
       "      <td>1</td>\n",
       "      <td>1</td>\n",
       "    </tr>\n",
       "    <tr>\n",
       "      <th>2</th>\n",
       "      <td>Alamnagar</td>\n",
       "      <td>4</td>\n",
       "      <td>1</td>\n",
       "      <td>2</td>\n",
       "    </tr>\n",
       "    <tr>\n",
       "      <th>3</th>\n",
       "      <td>Alauli</td>\n",
       "      <td>3</td>\n",
       "      <td>1</td>\n",
       "      <td>2</td>\n",
       "    </tr>\n",
       "    <tr>\n",
       "      <th>4</th>\n",
       "      <td>Alauli (SC)</td>\n",
       "      <td>1</td>\n",
       "      <td>1</td>\n",
       "      <td>1</td>\n",
       "    </tr>\n",
       "  </tbody>\n",
       "</table>\n",
       "</div>"
      ],
      "text/plain": [
       "       AC name  Election Year  Position  Party\n",
       "0       Agiaon              3         1      3\n",
       "1  Agiaon (SC)              1         1      1\n",
       "2    Alamnagar              4         1      2\n",
       "3       Alauli              3         1      2\n",
       "4  Alauli (SC)              1         1      1"
      ]
     },
     "execution_count": 8,
     "metadata": {},
     "output_type": "execute_result"
    }
   ],
   "source": [
    "data1 = data[data['Position']==1]\n",
    "data1 = data1.drop(['Name','Votes','Votes %','AC No'],axis=1)\n",
    "data2 = data1.groupby('AC name').nunique()\n",
    "data2 = data2.drop(['AC name'],axis=1)\n",
    "data2 = data2.reset_index()\n",
    "data2.head()"
   ]
  },
  {
   "cell_type": "code",
   "execution_count": 9,
   "metadata": {},
   "outputs": [],
   "source": [
    "stronghold_seats = []\n",
    "for i in range(len(data2['AC name'])):\n",
    "    if(data2['Party'][i]==1):\n",
    "        stronghold_seats.append(data2['AC name'][i])"
   ]
  },
  {
   "cell_type": "code",
   "execution_count": 10,
   "metadata": {},
   "outputs": [
    {
     "data": {
      "text/plain": [
       "['Agiaon (SC)',\n",
       " 'Alauli (SC)',\n",
       " 'Bakhri (SC)',\n",
       " 'Banmankhi (SC)',\n",
       " 'Barachatti (SC)',\n",
       " 'Bathnaha (SC)',\n",
       " 'Belhar',\n",
       " 'Bettiah',\n",
       " 'Bhorey (SC)',\n",
       " 'Bibhutpur',\n",
       " 'Bochaha (SC)',\n",
       " 'Bodh Gaya (SC)',\n",
       " 'Chanpatia',\n",
       " 'Chenari (SC)',\n",
       " 'Darauli (SC)',\n",
       " 'Dhauraiya (SC)',\n",
       " 'Dhuraiya',\n",
       " 'Fatwah',\n",
       " 'Garkha (SC)',\n",
       " 'Gopalpur',\n",
       " 'Gora Bauram',\n",
       " 'Goriakothi',\n",
       " 'Harsidhi (SC)',\n",
       " 'Imamganj (SC)',\n",
       " 'Kalyanpur (SC)',\n",
       " 'Katoria (ST)',\n",
       " 'Khagaria',\n",
       " 'Korha (SC)',\n",
       " 'Kumhrar',\n",
       " 'Kumhrarh',\n",
       " 'Kurtha',\n",
       " 'Kusheshwar Asthan (SC)',\n",
       " 'Kutumba (SC)',\n",
       " 'Maharajganj',\n",
       " 'Mahnar',\n",
       " 'Makhadumapur (SC)',\n",
       " 'Manihari (ST)',\n",
       " 'Masaurhi (SC)',\n",
       " 'Mohania (SC)',\n",
       " 'Nalanda',\n",
       " 'Nirmali',\n",
       " 'Parihar',\n",
       " 'Patepur (SC)',\n",
       " 'Phulwari (SC)',\n",
       " 'Pirpainti (SC)',\n",
       " 'Raja Pakar (SC)',\n",
       " 'Rajauli (SC)',\n",
       " 'Rajgir (SC)',\n",
       " 'Rajnagar (SC)',\n",
       " 'Rajpur',\n",
       " 'Rajpur (SC)',\n",
       " 'Ramnagar (SC)',\n",
       " 'Raniganj (SC)',\n",
       " 'Raxaul',\n",
       " 'Rosera (SC)',\n",
       " 'Runnisaidpur',\n",
       " 'Sakra (SC)',\n",
       " 'Sikandra (SC)',\n",
       " 'Singheshwar',\n",
       " 'Singheshwar (SC)',\n",
       " 'Siwan',\n",
       " 'Sonbarsha (SC)',\n",
       " 'Triveniganj (SC)',\n",
       " 'Warisnagar']"
      ]
     },
     "execution_count": 10,
     "metadata": {},
     "output_type": "execute_result"
    }
   ],
   "source": [
    "stronghold_seats"
   ]
  },
  {
   "cell_type": "code",
   "execution_count": null,
   "metadata": {},
   "outputs": [],
   "source": []
  }
 ],
 "metadata": {
  "kernelspec": {
   "display_name": "Python 3",
   "language": "python",
   "name": "python3"
  },
  "language_info": {
   "codemirror_mode": {
    "name": "ipython",
    "version": 3
   },
   "file_extension": ".py",
   "mimetype": "text/x-python",
   "name": "python",
   "nbconvert_exporter": "python",
   "pygments_lexer": "ipython3",
   "version": "3.7.6"
  }
 },
 "nbformat": 4,
 "nbformat_minor": 4
}
