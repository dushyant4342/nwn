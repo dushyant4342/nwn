{
 "cells": [
  {
   "cell_type": "code",
   "execution_count": 3,
   "metadata": {},
   "outputs": [],
   "source": [
    "import pandas as pd"
   ]
  },
  {
   "cell_type": "code",
   "execution_count": 4,
   "metadata": {},
   "outputs": [],
   "source": [
    "data=pd.read_csv(\"NationWithNAMO.csv\")"
   ]
  },
  {
   "cell_type": "code",
   "execution_count": 5,
   "metadata": {},
   "outputs": [
    {
     "data": {
      "text/html": [
       "<div>\n",
       "<style scoped>\n",
       "    .dataframe tbody tr th:only-of-type {\n",
       "        vertical-align: middle;\n",
       "    }\n",
       "\n",
       "    .dataframe tbody tr th {\n",
       "        vertical-align: top;\n",
       "    }\n",
       "\n",
       "    .dataframe thead th {\n",
       "        text-align: right;\n",
       "    }\n",
       "</style>\n",
       "<table border=\"1\" class=\"dataframe\">\n",
       "  <thead>\n",
       "    <tr style=\"text-align: right;\">\n",
       "      <th></th>\n",
       "      <th>Election Year</th>\n",
       "      <th>Position</th>\n",
       "      <th>Name</th>\n",
       "      <th>Votes</th>\n",
       "      <th>Votes %</th>\n",
       "      <th>Party</th>\n",
       "      <th>AC name</th>\n",
       "      <th>AC No</th>\n",
       "    </tr>\n",
       "  </thead>\n",
       "  <tbody>\n",
       "    <tr>\n",
       "      <th>0</th>\n",
       "      <td>2010</td>\n",
       "      <td>1</td>\n",
       "      <td>Rajesh Singh</td>\n",
       "      <td>42289</td>\n",
       "      <td>29.40%</td>\n",
       "      <td>Janata Dal (United)</td>\n",
       "      <td>Valmiki Nagar</td>\n",
       "      <td>1</td>\n",
       "    </tr>\n",
       "    <tr>\n",
       "      <th>1</th>\n",
       "      <td>2010</td>\n",
       "      <td>2</td>\n",
       "      <td>Mukesh Kumar Kushwaha</td>\n",
       "      <td>27618</td>\n",
       "      <td>19.20%</td>\n",
       "      <td>Rashtriya Janata Dal</td>\n",
       "      <td>Valmiki Nagar</td>\n",
       "      <td>1</td>\n",
       "    </tr>\n",
       "    <tr>\n",
       "      <th>2</th>\n",
       "      <td>2010</td>\n",
       "      <td>3</td>\n",
       "      <td>Dheerendra Pratap Singh</td>\n",
       "      <td>20886</td>\n",
       "      <td>14.50%</td>\n",
       "      <td>Bahujan Samaj Party</td>\n",
       "      <td>Valmiki Nagar</td>\n",
       "      <td>1</td>\n",
       "    </tr>\n",
       "    <tr>\n",
       "      <th>3</th>\n",
       "      <td>2010</td>\n",
       "      <td>4</td>\n",
       "      <td>Irshad Hussain</td>\n",
       "      <td>17747</td>\n",
       "      <td>12.40%</td>\n",
       "      <td>Indian National Congress</td>\n",
       "      <td>Valmiki Nagar</td>\n",
       "      <td>1</td>\n",
       "    </tr>\n",
       "    <tr>\n",
       "      <th>4</th>\n",
       "      <td>2010</td>\n",
       "      <td>5</td>\n",
       "      <td>Deep Narayan Mahato</td>\n",
       "      <td>14047</td>\n",
       "      <td>9.80%</td>\n",
       "      <td>Independent</td>\n",
       "      <td>Valmiki Nagar</td>\n",
       "      <td>1</td>\n",
       "    </tr>\n",
       "  </tbody>\n",
       "</table>\n",
       "</div>"
      ],
      "text/plain": [
       "  Election Year  Position                     Name  Votes Votes %  \\\n",
       "0          2010         1             Rajesh Singh  42289  29.40%   \n",
       "1          2010         2    Mukesh Kumar Kushwaha  27618  19.20%   \n",
       "2          2010         3  Dheerendra Pratap Singh  20886  14.50%   \n",
       "3          2010         4           Irshad Hussain  17747  12.40%   \n",
       "4          2010         5      Deep Narayan Mahato  14047   9.80%   \n",
       "\n",
       "                      Party        AC name  AC No  \n",
       "0       Janata Dal (United)  Valmiki Nagar      1  \n",
       "1      Rashtriya Janata Dal  Valmiki Nagar      1  \n",
       "2       Bahujan Samaj Party  Valmiki Nagar      1  \n",
       "3  Indian National Congress  Valmiki Nagar      1  \n",
       "4               Independent  Valmiki Nagar      1  "
      ]
     },
     "execution_count": 5,
     "metadata": {},
     "output_type": "execute_result"
    }
   ],
   "source": [
    "data.head()"
   ]
  },
  {
   "cell_type": "code",
   "execution_count": 7,
   "metadata": {},
   "outputs": [],
   "source": [
    "seats_won={}"
   ]
  },
  {
   "cell_type": "code",
   "execution_count": 8,
   "metadata": {},
   "outputs": [],
   "source": [
    "for i in range(data.shape[0]):\n",
    "\trow=data.iloc[i]\n",
    "\tif row[\"Election Year\"]==\"2015\" and row[\"Position\"]==1:\n",
    "\t\tif row[\"Party\"] not in seats_won:\n",
    "\t\t\tseats_won[row[\"Party\"]]=1\n",
    "\t\telse:\n",
    "\t\t\tseats_won[row[\"Party\"]]+=1"
   ]
  },
  {
   "cell_type": "code",
   "execution_count": 9,
   "metadata": {},
   "outputs": [],
   "source": [
    "seats_won=sorted(seats_won.items(),key=lambda x:x[1],reverse=True)"
   ]
  },
  {
   "cell_type": "code",
   "execution_count": 10,
   "metadata": {},
   "outputs": [],
   "source": [
    "seats_won=seats_won[:8]       #getting top 8 parties\n"
   ]
  },
  {
   "cell_type": "code",
   "execution_count": 24,
   "metadata": {},
   "outputs": [],
   "source": [
    "top_parties=[x[0] for x in seats_won]"
   ]
  },
  {
   "cell_type": "code",
   "execution_count": 25,
   "metadata": {},
   "outputs": [],
   "source": [
    "res={}"
   ]
  },
  {
   "cell_type": "code",
   "execution_count": 26,
   "metadata": {},
   "outputs": [],
   "source": [
    "constituencies={}"
   ]
  },
  {
   "cell_type": "code",
   "execution_count": 27,
   "metadata": {},
   "outputs": [],
   "source": [
    "for i in range(data.shape[0]):\n",
    "\trow=data.iloc[i]\n",
    "\tif row[\"Party\"] in top_parties:\n",
    "\t\tif row[\"AC No\"] not in res:\n",
    "\t\t\tres[row[\"AC No\"]]={}\n",
    "\t\t\tres[row[\"AC No\"]][row[\"Party\"]]=row[\"Votes\"]\n",
    "\t\telif row[\"Party\"] not in res[row[\"AC No\"]]:\n",
    "\t\t\tres[row[\"AC No\"]][row[\"Party\"]]=row[\"Votes\"]\n",
    "\t\telse:\t\n",
    "\t\t\tres[row[\"AC No\"]][row[\"Party\"]]=min(res[row[\"AC No\"]][row[\"Party\"]],row[\"Votes\"])\n",
    "\tconstituencies[row[\"AC No\"]]=row[\"AC name\"]"
   ]
  },
  {
   "cell_type": "code",
   "execution_count": 28,
   "metadata": {},
   "outputs": [],
   "source": [
    "data=[]                                                        \n"
   ]
  },
  {
   "cell_type": "code",
   "execution_count": 29,
   "metadata": {},
   "outputs": [],
   "source": [
    "for acno in res.keys():\n",
    "\tfor party in top_parties:\n",
    "\t\tif party in res[acno].keys():\n",
    "\t\t\tdata.append((acno,constituencies[acno],party,res[acno][party]))\n",
    "\t\telse:\n",
    "\t\t\tdata.append((acno,constituencies[acno],party,\"NA\"))\n"
   ]
  },
  {
   "cell_type": "code",
   "execution_count": 30,
   "metadata": {},
   "outputs": [],
   "source": [
    "final_result=pd.DataFrame(data,columns=[\"AC No\",\"AC Name\",\"Party\",\"Minimum Votes\"])"
   ]
  },
  {
   "cell_type": "code",
   "execution_count": 31,
   "metadata": {},
   "outputs": [
    {
     "data": {
      "text/html": [
       "<div>\n",
       "<style scoped>\n",
       "    .dataframe tbody tr th:only-of-type {\n",
       "        vertical-align: middle;\n",
       "    }\n",
       "\n",
       "    .dataframe tbody tr th {\n",
       "        vertical-align: top;\n",
       "    }\n",
       "\n",
       "    .dataframe thead th {\n",
       "        text-align: right;\n",
       "    }\n",
       "</style>\n",
       "<table border=\"1\" class=\"dataframe\">\n",
       "  <thead>\n",
       "    <tr style=\"text-align: right;\">\n",
       "      <th></th>\n",
       "      <th>AC No</th>\n",
       "      <th>AC Name</th>\n",
       "      <th>Party</th>\n",
       "      <th>Minimum Votes</th>\n",
       "    </tr>\n",
       "  </thead>\n",
       "  <tbody>\n",
       "    <tr>\n",
       "      <th>0</th>\n",
       "      <td>1</td>\n",
       "      <td>Valmiki Nagar</td>\n",
       "      <td>Rashtriya Janata Dal</td>\n",
       "      <td>19164</td>\n",
       "    </tr>\n",
       "    <tr>\n",
       "      <th>1</th>\n",
       "      <td>1</td>\n",
       "      <td>Valmiki Nagar</td>\n",
       "      <td>Janata Dal (United)</td>\n",
       "      <td>1716</td>\n",
       "    </tr>\n",
       "    <tr>\n",
       "      <th>2</th>\n",
       "      <td>1</td>\n",
       "      <td>Valmiki Nagar</td>\n",
       "      <td>Bharatiya Janta Party</td>\n",
       "      <td>NA</td>\n",
       "    </tr>\n",
       "    <tr>\n",
       "      <th>3</th>\n",
       "      <td>1</td>\n",
       "      <td>Valmiki Nagar</td>\n",
       "      <td>Indian National Congress</td>\n",
       "      <td>17747</td>\n",
       "    </tr>\n",
       "    <tr>\n",
       "      <th>4</th>\n",
       "      <td>1</td>\n",
       "      <td>Valmiki Nagar</td>\n",
       "      <td>Independent</td>\n",
       "      <td>440</td>\n",
       "    </tr>\n",
       "  </tbody>\n",
       "</table>\n",
       "</div>"
      ],
      "text/plain": [
       "   AC No        AC Name                     Party Minimum Votes\n",
       "0      1  Valmiki Nagar      Rashtriya Janata Dal         19164\n",
       "1      1  Valmiki Nagar       Janata Dal (United)          1716\n",
       "2      1  Valmiki Nagar     Bharatiya Janta Party            NA\n",
       "3      1  Valmiki Nagar  Indian National Congress         17747\n",
       "4      1  Valmiki Nagar               Independent           440"
      ]
     },
     "execution_count": 31,
     "metadata": {},
     "output_type": "execute_result"
    }
   ],
   "source": [
    "final_result.head()\n"
   ]
  },
  {
   "cell_type": "code",
   "execution_count": null,
   "metadata": {},
   "outputs": [],
   "source": []
  }
 ],
 "metadata": {
  "kernelspec": {
   "display_name": "Python 3",
   "language": "python",
   "name": "python3"
  },
  "language_info": {
   "codemirror_mode": {
    "name": "ipython",
    "version": 3
   },
   "file_extension": ".py",
   "mimetype": "text/x-python",
   "name": "python",
   "nbconvert_exporter": "python",
   "pygments_lexer": "ipython3",
   "version": "3.7.6"
  }
 },
 "nbformat": 4,
 "nbformat_minor": 4
}
