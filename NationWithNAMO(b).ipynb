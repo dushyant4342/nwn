{
 "cells": [
  {
   "cell_type": "code",
   "execution_count": 17,
   "metadata": {},
   "outputs": [],
   "source": [
    "import pandas as pd"
   ]
  },
  {
   "cell_type": "code",
   "execution_count": 18,
   "metadata": {},
   "outputs": [],
   "source": [
    "filename = 'NationWithNAMO.csv'\n",
    "data = pd.read_csv(filename)"
   ]
  },
  {
   "cell_type": "code",
   "execution_count": 19,
   "metadata": {},
   "outputs": [],
   "source": [
    "data1 = data[data['Position']==1]"
   ]
  },
  {
   "cell_type": "code",
   "execution_count": 20,
   "metadata": {},
   "outputs": [],
   "source": [
    "data1 = data1.drop(['Name','Votes','Votes %','AC No'],axis=1)"
   ]
  },
  {
   "cell_type": "code",
   "execution_count": 24,
   "metadata": {
    "scrolled": true
   },
   "outputs": [
    {
     "data": {
      "text/html": [
       "<div>\n",
       "<style scoped>\n",
       "    .dataframe tbody tr th:only-of-type {\n",
       "        vertical-align: middle;\n",
       "    }\n",
       "\n",
       "    .dataframe tbody tr th {\n",
       "        vertical-align: top;\n",
       "    }\n",
       "\n",
       "    .dataframe thead th {\n",
       "        text-align: right;\n",
       "    }\n",
       "</style>\n",
       "<table border=\"1\" class=\"dataframe\">\n",
       "  <thead>\n",
       "    <tr style=\"text-align: right;\">\n",
       "      <th></th>\n",
       "      <th>Election Year</th>\n",
       "      <th>Position</th>\n",
       "      <th>Party</th>\n",
       "      <th>AC name</th>\n",
       "    </tr>\n",
       "  </thead>\n",
       "  <tbody>\n",
       "    <tr>\n",
       "      <th>0</th>\n",
       "      <td>2010</td>\n",
       "      <td>1</td>\n",
       "      <td>Janata Dal (United)</td>\n",
       "      <td>Valmiki Nagar</td>\n",
       "    </tr>\n",
       "    <tr>\n",
       "      <th>14</th>\n",
       "      <td>2010</td>\n",
       "      <td>1</td>\n",
       "      <td>Bharatiya Janta Party</td>\n",
       "      <td>Ramnagar</td>\n",
       "    </tr>\n",
       "    <tr>\n",
       "      <th>31</th>\n",
       "      <td>2010</td>\n",
       "      <td>1</td>\n",
       "      <td>Bharatiya Janta Party</td>\n",
       "      <td>Narkatiaganj</td>\n",
       "    </tr>\n",
       "    <tr>\n",
       "      <th>46</th>\n",
       "      <td>2010</td>\n",
       "      <td>1</td>\n",
       "      <td>Janata Dal (United)</td>\n",
       "      <td>Bagaha</td>\n",
       "    </tr>\n",
       "    <tr>\n",
       "      <th>61</th>\n",
       "      <td>2010</td>\n",
       "      <td>1</td>\n",
       "      <td>Independent</td>\n",
       "      <td>Lauriya</td>\n",
       "    </tr>\n",
       "    <tr>\n",
       "      <th>73</th>\n",
       "      <td>2010</td>\n",
       "      <td>1</td>\n",
       "      <td>Janata Dal (United)</td>\n",
       "      <td>Nautan</td>\n",
       "    </tr>\n",
       "    <tr>\n",
       "      <th>89</th>\n",
       "      <td>2010</td>\n",
       "      <td>1</td>\n",
       "      <td>Bharatiya Janta Party</td>\n",
       "      <td>Chanpatia</td>\n",
       "    </tr>\n",
       "    <tr>\n",
       "      <th>107</th>\n",
       "      <td>2010</td>\n",
       "      <td>1</td>\n",
       "      <td>Bharatiya Janta Party</td>\n",
       "      <td>Bettiah</td>\n",
       "    </tr>\n",
       "    <tr>\n",
       "      <th>125</th>\n",
       "      <td>2010</td>\n",
       "      <td>1</td>\n",
       "      <td>Independent</td>\n",
       "      <td>Sikta</td>\n",
       "    </tr>\n",
       "    <tr>\n",
       "      <th>143</th>\n",
       "      <td>2010</td>\n",
       "      <td>1</td>\n",
       "      <td>Bharatiya Janta Party</td>\n",
       "      <td>Raxaul</td>\n",
       "    </tr>\n",
       "  </tbody>\n",
       "</table>\n",
       "</div>"
      ],
      "text/plain": [
       "    Election Year  Position                  Party        AC name\n",
       "0            2010         1    Janata Dal (United)  Valmiki Nagar\n",
       "14           2010         1  Bharatiya Janta Party       Ramnagar\n",
       "31           2010         1  Bharatiya Janta Party   Narkatiaganj\n",
       "46           2010         1    Janata Dal (United)         Bagaha\n",
       "61           2010         1            Independent        Lauriya\n",
       "73           2010         1    Janata Dal (United)         Nautan\n",
       "89           2010         1  Bharatiya Janta Party      Chanpatia\n",
       "107          2010         1  Bharatiya Janta Party        Bettiah\n",
       "125          2010         1            Independent          Sikta\n",
       "143          2010         1  Bharatiya Janta Party         Raxaul"
      ]
     },
     "execution_count": 24,
     "metadata": {},
     "output_type": "execute_result"
    }
   ],
   "source": [
    "data1.head(10)"
   ]
  },
  {
   "cell_type": "code",
   "execution_count": 25,
   "metadata": {},
   "outputs": [
    {
     "data": {
      "text/plain": [
       "(972, 4)"
      ]
     },
     "execution_count": 25,
     "metadata": {},
     "output_type": "execute_result"
    }
   ],
   "source": [
    "data1.shape"
   ]
  },
  {
   "cell_type": "code",
   "execution_count": 26,
   "metadata": {
    "scrolled": true
   },
   "outputs": [
    {
     "name": "stdout",
     "output_type": "stream",
     "text": [
      "<class 'pandas.core.frame.DataFrame'>\n",
      "Int64Index: 972 entries, 0 to 12282\n",
      "Data columns (total 4 columns):\n",
      " #   Column         Non-Null Count  Dtype \n",
      "---  ------         --------------  ----- \n",
      " 0   Election Year  972 non-null    object\n",
      " 1   Position       972 non-null    int64 \n",
      " 2   Party          972 non-null    object\n",
      " 3   AC name        972 non-null    object\n",
      "dtypes: int64(1), object(3)\n",
      "memory usage: 38.0+ KB\n"
     ]
    }
   ],
   "source": [
    "data1.info()"
   ]
  },
  {
   "cell_type": "code",
   "execution_count": 27,
   "metadata": {},
   "outputs": [
    {
     "data": {
      "text/html": [
       "<div>\n",
       "<style scoped>\n",
       "    .dataframe tbody tr th:only-of-type {\n",
       "        vertical-align: middle;\n",
       "    }\n",
       "\n",
       "    .dataframe tbody tr th {\n",
       "        vertical-align: top;\n",
       "    }\n",
       "\n",
       "    .dataframe thead th {\n",
       "        text-align: right;\n",
       "    }\n",
       "</style>\n",
       "<table border=\"1\" class=\"dataframe\">\n",
       "  <thead>\n",
       "    <tr style=\"text-align: right;\">\n",
       "      <th></th>\n",
       "      <th>Election Year</th>\n",
       "      <th>Position</th>\n",
       "      <th>Party</th>\n",
       "      <th>AC name</th>\n",
       "    </tr>\n",
       "    <tr>\n",
       "      <th>AC name</th>\n",
       "      <th></th>\n",
       "      <th></th>\n",
       "      <th></th>\n",
       "      <th></th>\n",
       "    </tr>\n",
       "  </thead>\n",
       "  <tbody>\n",
       "    <tr>\n",
       "      <th>Agiaon</th>\n",
       "      <td>3</td>\n",
       "      <td>1</td>\n",
       "      <td>3</td>\n",
       "      <td>1</td>\n",
       "    </tr>\n",
       "    <tr>\n",
       "      <th>Agiaon (SC)</th>\n",
       "      <td>1</td>\n",
       "      <td>1</td>\n",
       "      <td>1</td>\n",
       "      <td>1</td>\n",
       "    </tr>\n",
       "    <tr>\n",
       "      <th>Alamnagar</th>\n",
       "      <td>4</td>\n",
       "      <td>1</td>\n",
       "      <td>2</td>\n",
       "      <td>1</td>\n",
       "    </tr>\n",
       "    <tr>\n",
       "      <th>Alauli</th>\n",
       "      <td>3</td>\n",
       "      <td>1</td>\n",
       "      <td>2</td>\n",
       "      <td>1</td>\n",
       "    </tr>\n",
       "    <tr>\n",
       "      <th>Alauli (SC)</th>\n",
       "      <td>1</td>\n",
       "      <td>1</td>\n",
       "      <td>1</td>\n",
       "      <td>1</td>\n",
       "    </tr>\n",
       "  </tbody>\n",
       "</table>\n",
       "</div>"
      ],
      "text/plain": [
       "             Election Year  Position  Party  AC name\n",
       "AC name                                             \n",
       "Agiaon                   3         1      3        1\n",
       "Agiaon (SC)              1         1      1        1\n",
       "Alamnagar                4         1      2        1\n",
       "Alauli                   3         1      2        1\n",
       "Alauli (SC)              1         1      1        1"
      ]
     },
     "execution_count": 27,
     "metadata": {},
     "output_type": "execute_result"
    }
   ],
   "source": [
    "data2 = data1.groupby('AC name').nunique()\n",
    "data2.head()"
   ]
  },
  {
   "cell_type": "code",
   "execution_count": 13,
   "metadata": {},
   "outputs": [
    {
     "data": {
      "text/html": [
       "<div>\n",
       "<style scoped>\n",
       "    .dataframe tbody tr th:only-of-type {\n",
       "        vertical-align: middle;\n",
       "    }\n",
       "\n",
       "    .dataframe tbody tr th {\n",
       "        vertical-align: top;\n",
       "    }\n",
       "\n",
       "    .dataframe thead th {\n",
       "        text-align: right;\n",
       "    }\n",
       "</style>\n",
       "<table border=\"1\" class=\"dataframe\">\n",
       "  <thead>\n",
       "    <tr style=\"text-align: right;\">\n",
       "      <th></th>\n",
       "      <th>AC name</th>\n",
       "      <th>Election Year</th>\n",
       "      <th>Position</th>\n",
       "      <th>Party</th>\n",
       "    </tr>\n",
       "  </thead>\n",
       "  <tbody>\n",
       "    <tr>\n",
       "      <th>0</th>\n",
       "      <td>Agiaon</td>\n",
       "      <td>3</td>\n",
       "      <td>1</td>\n",
       "      <td>3</td>\n",
       "    </tr>\n",
       "    <tr>\n",
       "      <th>1</th>\n",
       "      <td>Agiaon (SC)</td>\n",
       "      <td>1</td>\n",
       "      <td>1</td>\n",
       "      <td>1</td>\n",
       "    </tr>\n",
       "    <tr>\n",
       "      <th>2</th>\n",
       "      <td>Alamnagar</td>\n",
       "      <td>4</td>\n",
       "      <td>1</td>\n",
       "      <td>2</td>\n",
       "    </tr>\n",
       "    <tr>\n",
       "      <th>3</th>\n",
       "      <td>Alauli</td>\n",
       "      <td>3</td>\n",
       "      <td>1</td>\n",
       "      <td>2</td>\n",
       "    </tr>\n",
       "    <tr>\n",
       "      <th>4</th>\n",
       "      <td>Alauli (SC)</td>\n",
       "      <td>1</td>\n",
       "      <td>1</td>\n",
       "      <td>1</td>\n",
       "    </tr>\n",
       "  </tbody>\n",
       "</table>\n",
       "</div>"
      ],
      "text/plain": [
       "       AC name  Election Year  Position  Party\n",
       "0       Agiaon              3         1      3\n",
       "1  Agiaon (SC)              1         1      1\n",
       "2    Alamnagar              4         1      2\n",
       "3       Alauli              3         1      2\n",
       "4  Alauli (SC)              1         1      1"
      ]
     },
     "execution_count": 13,
     "metadata": {},
     "output_type": "execute_result"
    }
   ],
   "source": [
    "data2 = data1.groupby('AC name').nunique()\n",
    "data2 = data2.drop(['AC name'],axis=1)\n",
    "data2 = data2.reset_index()\n",
    "data2.head(5)"
   ]
  },
  {
   "cell_type": "code",
   "execution_count": 25,
   "metadata": {},
   "outputs": [],
   "source": [
    "swing_seats = []\n",
    "for i in range(len(data2['AC name'])):\n",
    "    if(data2['Election Year'][i] == data2['Party'][i]):\n",
    "        swing_seats.append(data2['AC name'][i])"
   ]
  },
  {
   "cell_type": "code",
   "execution_count": 26,
   "metadata": {},
   "outputs": [
    {
     "data": {
      "text/plain": [
       "['Agiaon',\n",
       " 'Agiaon (SC)',\n",
       " 'Alauli (SC)',\n",
       " 'Amour',\n",
       " 'Bachhwara',\n",
       " 'Bakhri (SC)',\n",
       " 'Balrampur',\n",
       " 'Banmankhi (SC)',\n",
       " 'Barachatti (SC)',\n",
       " 'Barhampur',\n",
       " 'Bathnaha (SC)',\n",
       " 'Belsand',\n",
       " 'Bhorey (SC)',\n",
       " 'Bibhutipur',\n",
       " 'Bochaha (SC)',\n",
       " 'Bodh Gaya (SC)',\n",
       " 'Brahampur',\n",
       " 'Chakai',\n",
       " 'Chenari',\n",
       " 'Chenari (SC)',\n",
       " 'Darauli',\n",
       " 'Darauli (SC)',\n",
       " 'Dhauraiya (SC)',\n",
       " 'Fatuha',\n",
       " 'Garkha',\n",
       " 'Garkha (SC)',\n",
       " 'Gaura Bauram',\n",
       " 'Goriyakothi',\n",
       " 'Harsidhi',\n",
       " 'Harsidhi (SC)',\n",
       " 'Imamganj',\n",
       " 'Imamganj (SC)',\n",
       " 'Jhajha',\n",
       " 'Kadwa',\n",
       " 'Kalyanpur (SC)',\n",
       " 'Katoria',\n",
       " 'Katoria (ST)',\n",
       " 'Korha (SC)',\n",
       " 'Kusheshwar Asthan (SC)',\n",
       " 'Kutumba',\n",
       " 'Kutumba (SC)',\n",
       " 'Lauriya',\n",
       " 'Madhubani',\n",
       " 'Makhadumapur (SC)',\n",
       " 'Makhdumpur',\n",
       " 'Manhar',\n",
       " 'Manihari',\n",
       " 'Manihari (ST)',\n",
       " 'Masaurhi',\n",
       " 'Masaurhi (SC)',\n",
       " 'Mohania (SC)',\n",
       " 'Patepur (SC)',\n",
       " 'Phulwari (SC)',\n",
       " 'Pipra',\n",
       " 'Pirpainti (SC)',\n",
       " 'Raja Pakar',\n",
       " 'Raja Pakar (SC)',\n",
       " 'Rajauli (SC)',\n",
       " 'Rajgir',\n",
       " 'Rajgir (SC)',\n",
       " 'Rajnagar',\n",
       " 'Rajnagar (SC)',\n",
       " 'Rajpur (SC)',\n",
       " 'Ramgarh',\n",
       " 'Ramnagar (SC)',\n",
       " 'Raniganj',\n",
       " 'Raniganj (SC)',\n",
       " 'Rosera (SC)',\n",
       " 'Runisaidpur',\n",
       " 'Runnisaidpur',\n",
       " 'Sakra (SC)',\n",
       " 'Sikandra',\n",
       " 'Sikandra (SC)',\n",
       " 'Singheshwar (SC)',\n",
       " 'Sonbarsha (SC)',\n",
       " 'Tarari',\n",
       " 'Thakurganj',\n",
       " 'Triveniganj (SC)']"
      ]
     },
     "execution_count": 26,
     "metadata": {},
     "output_type": "execute_result"
    }
   ],
   "source": [
    "swing_seats"
   ]
  }
 ],
 "metadata": {
  "kernelspec": {
   "display_name": "Python 3",
   "language": "python",
   "name": "python3"
  },
  "language_info": {
   "codemirror_mode": {
    "name": "ipython",
    "version": 3
   },
   "file_extension": ".py",
   "mimetype": "text/x-python",
   "name": "python",
   "nbconvert_exporter": "python",
   "pygments_lexer": "ipython3",
   "version": "3.7.6"
  }
 },
 "nbformat": 4,
 "nbformat_minor": 4
}
